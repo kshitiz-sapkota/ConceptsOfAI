{
  "nbformat": 4,
  "nbformat_minor": 0,
  "metadata": {
    "colab": {
      "provenance": []
    },
    "kernelspec": {
      "name": "python3",
      "display_name": "Python 3"
    },
    "language_info": {
      "name": "python"
    }
  },
  "cells": [
    {
      "cell_type": "code",
      "source": [
        "from google.colab import drive\n",
        "drive.mount('/content/drive')"
      ],
      "metadata": {
        "colab": {
          "base_uri": "https://localhost:8080/"
        },
        "id": "_dTQOYaCWwoP",
        "outputId": "82b0063f-73cd-44eb-a969-ca4476996014"
      },
      "execution_count": 29,
      "outputs": [
        {
          "output_type": "stream",
          "name": "stdout",
          "text": [
            "Drive already mounted at /content/drive; to attempt to forcibly remount, call drive.mount(\"/content/drive\", force_remount=True).\n"
          ]
        }
      ]
    },
    {
      "cell_type": "markdown",
      "source": [
        "### **Regression Task**"
      ],
      "metadata": {
        "id": "XmWORyFnWTYd"
      }
    },
    {
      "cell_type": "markdown",
      "source": [
        "# Exploratory Data Analysis and Data Understanding"
      ],
      "metadata": {
        "id": "OU7u2INrWc7J"
      }
    },
    {
      "cell_type": "markdown",
      "source": [
        "## Task 1: Exploratory Data Analysis and Data *Understanding*"
      ],
      "metadata": {
        "id": "WpMcwAOxWhTS"
      }
    },
    {
      "cell_type": "markdown",
      "source": [
        "### **Imports**"
      ],
      "metadata": {
        "id": "jQVXaFn_Wn0f"
      }
    },
    {
      "cell_type": "code",
      "source": [
        "import pandas as pd\n",
        "import numpy as np\n",
        "import seaborn as sns\n",
        "import matplotlib.pyplot as plt\n",
        "from sklearn.model_selection import train_test_split, cross_val_score, GridSearchCV\n",
        "from sklearn.preprocessing import StandardScaler\n",
        "from sklearn.linear_model import LinearRegression, Ridge, Lasso\n",
        "from sklearn.ensemble import RandomForestRegressor\n",
        "from sklearn.metrics import mean_squared_error, mean_absolute_error, r2_score"
      ],
      "metadata": {
        "id": "YZ_UZFh7XAbj"
      },
      "execution_count": 30,
      "outputs": []
    },
    {
      "cell_type": "code",
      "source": [
        "# Load the dataset\n",
        "file_path = \"/content/drive/MyDrive/AI dataset/pcos_prediction_dataset.csv\"\n",
        "df = pd.read_csv(file_path)"
      ],
      "metadata": {
        "id": "1euvR_CXXCSn"
      },
      "execution_count": 31,
      "outputs": []
    },
    {
      "cell_type": "code",
      "source": [
        "# Display basic information about the dataset\n",
        "print(df.info())\n",
        "print(df.describe())\n"
      ],
      "metadata": {
        "colab": {
          "base_uri": "https://localhost:8080/"
        },
        "id": "gAQq0QlDXGeO",
        "outputId": "8dc696cb-db45-4385-c834-77cb2b9f9a26"
      },
      "execution_count": 32,
      "outputs": [
        {
          "output_type": "stream",
          "name": "stdout",
          "text": [
            "<class 'pandas.core.frame.DataFrame'>\n",
            "RangeIndex: 120000 entries, 0 to 119999\n",
            "Data columns (total 17 columns):\n",
            " #   Column                       Non-Null Count   Dtype  \n",
            "---  ------                       --------------   -----  \n",
            " 0   Country                      120000 non-null  object \n",
            " 1   Age                          120000 non-null  int64  \n",
            " 2   BMI                          120000 non-null  object \n",
            " 3   Menstrual Regularity         120000 non-null  object \n",
            " 4   Hirsutism                    120000 non-null  object \n",
            " 5   Acne Severity                59915 non-null   object \n",
            " 6   Family History of PCOS       120000 non-null  object \n",
            " 7   Insulin Resistance           120000 non-null  object \n",
            " 8   Lifestyle Score              120000 non-null  int64  \n",
            " 9   Stress Levels                120000 non-null  object \n",
            " 10  Urban/Rural                  120000 non-null  object \n",
            " 11  Socioeconomic Status         120000 non-null  object \n",
            " 12  Awareness of PCOS            120000 non-null  object \n",
            " 13  Fertility Concerns           120000 non-null  object \n",
            " 14  Undiagnosed PCOS Likelihood  120000 non-null  float64\n",
            " 15  Ethnicity                    120000 non-null  object \n",
            " 16  Diagnosis                    120000 non-null  object \n",
            "dtypes: float64(1), int64(2), object(14)\n",
            "memory usage: 15.6+ MB\n",
            "None\n",
            "                 Age  Lifestyle Score  Undiagnosed PCOS Likelihood\n",
            "count  120000.000000    120000.000000                120000.000000\n",
            "mean       31.980508         5.506567                     0.149937\n",
            "std        10.096799         2.871052                     0.057786\n",
            "min        15.000000         1.000000                     0.050001\n",
            "25%        23.000000         3.000000                     0.099820\n",
            "50%        32.000000         6.000000                     0.149844\n",
            "75%        41.000000         8.000000                     0.200061\n",
            "max        49.000000        10.000000                     0.249998\n"
          ]
        }
      ]
    },
    {
      "cell_type": "code",
      "source": [
        "# Checking for missing values\n",
        "print(df.isnull().sum())\n",
        "\n",
        "# Drop columns with excessive missing values (if any)\n",
        "df.dropna(inplace=True)\n",
        "\n",
        "# List all attributes\n",
        "print(\"Dataset Columns: \", df.columns.tolist())\n"
      ],
      "metadata": {
        "colab": {
          "base_uri": "https://localhost:8080/"
        },
        "id": "Egl7d14iXIV6",
        "outputId": "db4f168c-91a3-416d-a4a1-34af0b7f4c22"
      },
      "execution_count": 34,
      "outputs": [
        {
          "output_type": "stream",
          "name": "stdout",
          "text": [
            "Country                        0\n",
            "Age                            0\n",
            "BMI                            0\n",
            "Menstrual Regularity           0\n",
            "Hirsutism                      0\n",
            "Acne Severity                  0\n",
            "Family History of PCOS         0\n",
            "Insulin Resistance             0\n",
            "Lifestyle Score                0\n",
            "Stress Levels                  0\n",
            "Urban/Rural                    0\n",
            "Socioeconomic Status           0\n",
            "Awareness of PCOS              0\n",
            "Fertility Concerns             0\n",
            "Undiagnosed PCOS Likelihood    0\n",
            "Ethnicity                      0\n",
            "Diagnosis                      0\n",
            "dtype: int64\n",
            "Dataset Columns:  ['Country', 'Age', 'BMI', 'Menstrual Regularity', 'Hirsutism', 'Acne Severity', 'Family History of PCOS', 'Insulin Resistance', 'Lifestyle Score', 'Stress Levels', 'Urban/Rural', 'Socioeconomic Status', 'Awareness of PCOS', 'Fertility Concerns', 'Undiagnosed PCOS Likelihood', 'Ethnicity', 'Diagnosis']\n"
          ]
        }
      ]
    },
    {
      "cell_type": "markdown",
      "source": [
        "# **Task 2: Conducting Exploratory Data Analysis (EDA)**"
      ],
      "metadata": {
        "id": "zGuuE3wsXVEX"
      }
    },
    {
      "cell_type": "markdown",
      "source": [
        "## 2.1 Data Cleaning & Summary Statistics"
      ],
      "metadata": {
        "id": "QPQ59DENXctC"
      }
    },
    {
      "cell_type": "code",
      "source": [
        "import seaborn as sns\n",
        "import matplotlib.pyplot as plt\n",
        "\n",
        "# Drop rows with missing values (if necessary)\n",
        "df.dropna(inplace=True)\n",
        "\n",
        "# Summary statistics\n",
        "print(df.describe())\n"
      ],
      "metadata": {
        "colab": {
          "base_uri": "https://localhost:8080/"
        },
        "id": "g5Cy12qTXTSQ",
        "outputId": "dde23d73-83b0-4843-d078-cdfe3c303cb2"
      },
      "execution_count": 35,
      "outputs": [
        {
          "output_type": "stream",
          "name": "stdout",
          "text": [
            "                Age  Lifestyle Score  Undiagnosed PCOS Likelihood\n",
            "count  59915.000000     59915.000000                 59915.000000\n",
            "mean      31.942402         5.497789                     0.149960\n",
            "std       10.094978         2.865160                     0.057761\n",
            "min       15.000000         1.000000                     0.050002\n",
            "25%       23.000000         3.000000                     0.099872\n",
            "50%       32.000000         5.000000                     0.149860\n",
            "75%       41.000000         8.000000                     0.200246\n",
            "max       49.000000        10.000000                     0.249998\n"
          ]
        }
      ]
    },
    {
      "cell_type": "markdown",
      "source": [
        "# 2.2 Visualizations & Insights"
      ],
      "metadata": {
        "id": "MRJxvwd9Xh6U"
      }
    },
    {
      "cell_type": "markdown",
      "source": [
        "# Boxplot for BMI vs Undiagnosed PCOS Likelihood"
      ],
      "metadata": {
        "id": "23jQAsphXkah"
      }
    },
    {
      "cell_type": "code",
      "source": [
        "plt.figure(figsize=(8, 6))\n",
        "sns.boxplot(x=df[\"BMI\"], y=df[\"Undiagnosed PCOS Likelihood\"])\n",
        "plt.title(\"BMI vs Undiagnosed PCOS Likelihood\")\n",
        "plt.show()\n"
      ],
      "metadata": {
        "colab": {
          "base_uri": "https://localhost:8080/",
          "height": 564
        },
        "id": "VtL3n0PHXnNv",
        "outputId": "897d2f35-92c0-412a-99d4-cb4e962bbbaf"
      },
      "execution_count": 36,
      "outputs": [
        {
          "output_type": "display_data",
          "data": {
            "text/plain": [
              "<Figure size 800x600 with 1 Axes>"
            ],
            "image/png": "[encoded data removed]"
          },
          "metadata": {}
        }
      ]
    },
    {
      "cell_type": "markdown",
      "source": [
        "# Count Plot for Menstrual Regularity"
      ],
      "metadata": {
        "id": "JIlhlLEjXq6M"
      }
    },
    {
      "cell_type": "code",
      "source": [
        "sns.countplot(x=df[\"Menstrual Regularity\"])\n",
        "plt.title(\"Distribution of Menstrual Regularity\")\n",
        "plt.show()\n"
      ],
      "metadata": {
        "colab": {
          "base_uri": "https://localhost:8080/",
          "height": 472
        },
        "id": "wke0CGcPXzN5",
        "outputId": "867b0f47-0196-40da-ca5d-473bc5f88c52"
      },
      "execution_count": 37,
      "outputs": [
        {
          "output_type": "display_data",
          "data": {
            "text/plain": [
              "<Figure size 640x480 with 1 Axes>"
            ],
            "image/png": "[encoded data removed]"
          },
          "metadata": {}
        }
      ]
    },
    {
      "cell_type": "markdown",
      "source": [
        "# Task 3: Build a Model from Scratch"
      ],
      "metadata": {
        "id": "GUIgjSSwXttB"
      }
    },
    {
      "cell_type": "markdown",
      "source": [
        "# 3.1 Data Preprocessing & Splitting"
      ],
      "metadata": {
        "id": "7fN4bzSBX3io"
      }
    },
    {
      "cell_type": "code",
      "source": [
        "\n",
        "# Define target and features\n",
        "target = \"Undiagnosed PCOS Likelihood\"\n",
        "X = df.drop(columns=[target])\n",
        "y = df[target]\n",
        "\n",
        "# Convert categorical variables\n",
        "X = pd.get_dummies(X, drop_first=True)\n",
        "\n",
        "# Split data\n",
        "X_train, X_test, y_train, y_test = train_test_split(X, y, test_size=0.2, random_state=42)\n",
        "\n",
        "# Standardize numeric features\n",
        "scaler = StandardScaler()\n",
        "X_train_scaled = scaler.fit_transform(X_train)\n",
        "X_test_scaled = scaler.transform(X_test)\n"
      ],
      "metadata": {
        "id": "RW99lI0JX4sJ"
      },
      "execution_count": 38,
      "outputs": []
    },
    {
      "cell_type": "markdown",
      "source": [
        "The \"Undiagnosed PCOS Likelihood\" column, consisting of continuous values, serves as the target variable for the regression task, with features and targets separated accordingly."
      ],
      "metadata": {
        "id": "1E8Vyw_IYAPS"
      }
    },
    {
      "cell_type": "markdown",
      "source": [
        "3.2 Build a Linear Regression Model"
      ],
      "metadata": {
        "id": "IRadnTreYBkI"
      }
    },
    {
      "cell_type": "code",
      "source": [
        "from sklearn.linear_model import LinearRegression\n",
        "from sklearn.metrics import mean_squared_error, r2_score\n",
        "\n",
        "# Train Linear Regression\n",
        "lr = LinearRegression()\n",
        "lr.fit(X_train_scaled, y_train)\n",
        "\n",
        "# Predictions\n",
        "y_pred_train = lr.predict(X_train_scaled)\n",
        "y_pred_test = lr.predict(X_test_scaled)\n",
        "\n",
        "# Evaluation\n",
        "print(\"Linear Regression Performance:\")\n",
        "print(\"Train R-squared:\", r2_score(y_train, y_pred_train))\n",
        "print(\"Test R-squared:\", r2_score(y_test, y_pred_test))\n",
        "print(\"Test MSE:\", mean_squared_error(y_test, y_pred_test))\n"
      ],
      "metadata": {
        "colab": {
          "base_uri": "https://localhost:8080/"
        },
        "id": "YbaO-PXvYFyd",
        "outputId": "f95a6863-e3c3-4e67-d76a-5fb4d6efd28f"
      },
      "execution_count": 39,
      "outputs": [
        {
          "output_type": "stream",
          "name": "stdout",
          "text": [
            "Linear Regression Performance:\n",
            "Train R-squared: 0.002463343529426343\n",
            "Test R-squared: -0.0011312757496875214\n",
            "Test MSE: 0.003300812939421059\n"
          ]
        }
      ]
    },
    {
      "cell_type": "markdown",
      "source": [
        "# **Task 4: Build a Primary Model**"
      ],
      "metadata": {
        "id": "0enZvIqVYL0Y"
      }
    },
    {
      "cell_type": "code",
      "source": [
        "# Initialize models\n",
        "ridge = Ridge()\n",
        "lasso = Lasso()\n",
        "rf = RandomForestRegressor()\n",
        "\n",
        "models = {'Ridge Regression': ridge, 'Lasso Regression': lasso, 'Random Forest': rf}\n",
        "\n",
        "# Train and evaluate each model\n",
        "for name, model in models.items():\n",
        "    model.fit(X_train_scaled, y_train)\n",
        "    y_pred = model.predict(X_test_scaled)\n",
        "\n",
        "    print(f\"\\n{name} Performance:\")\n",
        "    print(\"R-squared:\", r2_score(y_test, y_pred))\n",
        "    print(\"MSE:\", mean_squared_error(y_test, y_pred))"
      ],
      "metadata": {
        "colab": {
          "base_uri": "https://localhost:8080/"
        },
        "id": "AwDhilS9YODB",
        "outputId": "90e4de88-5c55-4cc3-9b22-2a09abbcef38"
      },
      "execution_count": 40,
      "outputs": [
        {
          "output_type": "stream",
          "name": "stdout",
          "text": [
            "\n",
            "Ridge Regression Performance:\n",
            "R-squared: -0.0011311609687805202\n",
            "MSE: 0.003300812560978878\n",
            "\n",
            "Lasso Regression Performance:\n",
            "R-squared: -7.79532263694982e-06\n",
            "MSE: 0.0032971087311712286\n",
            "\n",
            "Random Forest Performance:\n",
            "R-squared: -0.03877627491845548\n",
            "MSE: 0.0034249316273201203\n"
          ]
        }
      ]
    },
    {
      "cell_type": "markdown",
      "source": [
        "# Hyperparameter Tuning with RandomizedSearchCV"
      ],
      "metadata": {
        "id": "Z_Vf6t9oYdex"
      }
    },
    {
      "cell_type": "code",
      "source": [
        "# Hyperparameter Tuning for Regression\n",
        "regressor = RandomForestRegressor(random_state=42)\n",
        "regressor_params = {\n",
        "    'n_estimators': [10,20],\n",
        "    'max_depth': [1,2],\n",
        "    'min_samples_split': [1,2]\n",
        "}\n",
        "reg_grid = GridSearchCV(estimator=regressor, param_grid=regressor_params, cv=5, scoring='neg_mean_squared_error', n_jobs=-1)\n",
        "reg_grid.fit(X_train_reg, y_train_reg)\n",
        "\n",
        "# Hyperparameter Tuning for Classification\n",
        "classifier = RandomForestClassifier(random_state=42)\n",
        "classifier_params = {\n",
        "    'n_estimators': [10, 20],\n",
        "    'max_depth': [1,2],\n",
        "    'min_samples_split': [1,2]\n",
        "}\n",
        "clf_grid = GridSearchCV(estimator=classifier, param_grid=classifier_params, cv=5, scoring='accuracy', n_jobs=-1)\n",
        "clf_grid.fit(X_train_clf, y_train_clf)\n",
        "\n",
        "# Best Parameters\n",
        "best_reg_params = reg_grid.best_params_\n",
        "best_clf_params = clf_grid.best_params_\n",
        "\n",
        "print('Best parameters for regression:', best_reg_params)\n",
        "print('Best parameters for classification:', best_clf_params)"
      ],
      "metadata": {
        "colab": {
          "base_uri": "https://localhost:8080/"
        },
        "id": "QVxoLjbugpVC",
        "outputId": "01bf72da-7b60-415e-f344-76daed6b2385"
      },
      "execution_count": 49,
      "outputs": [
        {
          "output_type": "stream",
          "name": "stderr",
          "text": [
            "/usr/local/lib/python3.11/dist-packages/sklearn/model_selection/_validation.py:528: FitFailedWarning: \n",
            "20 fits failed out of a total of 40.\n",
            "The score on these train-test partitions for these parameters will be set to nan.\n",
            "If these failures are not expected, you can try to debug them by setting error_score='raise'.\n",
            "\n",
            "Below are more details about the failures:\n",
            "--------------------------------------------------------------------------------\n",
            "20 fits failed with the following error:\n",
            "Traceback (most recent call last):\n",
            "  File \"/usr/local/lib/python3.11/dist-packages/sklearn/model_selection/_validation.py\", line 866, in _fit_and_score\n",
            "    estimator.fit(X_train, y_train, **fit_params)\n",
            "  File \"/usr/local/lib/python3.11/dist-packages/sklearn/base.py\", line 1382, in wrapper\n",
            "    estimator._validate_params()\n",
            "  File \"/usr/local/lib/python3.11/dist-packages/sklearn/base.py\", line 436, in _validate_params\n",
            "    validate_parameter_constraints(\n",
            "  File \"/usr/local/lib/python3.11/dist-packages/sklearn/utils/_param_validation.py\", line 98, in validate_parameter_constraints\n",
            "    raise InvalidParameterError(\n",
            "sklearn.utils._param_validation.InvalidParameterError: The 'min_samples_split' parameter of RandomForestRegressor must be an int in the range [2, inf) or a float in the range (0.0, 1.0]. Got 1 instead.\n",
            "\n",
            "  warnings.warn(some_fits_failed_message, FitFailedWarning)\n",
            "/usr/local/lib/python3.11/dist-packages/sklearn/model_selection/_search.py:1108: UserWarning: One or more of the test scores are non-finite: [        nan         nan -0.00333978 -0.00333981         nan         nan\n",
            " -0.00333983 -0.00333981]\n",
            "  warnings.warn(\n",
            "/usr/local/lib/python3.11/dist-packages/sklearn/model_selection/_validation.py:528: FitFailedWarning: \n",
            "20 fits failed out of a total of 40.\n",
            "The score on these train-test partitions for these parameters will be set to nan.\n",
            "If these failures are not expected, you can try to debug them by setting error_score='raise'.\n",
            "\n",
            "Below are more details about the failures:\n",
            "--------------------------------------------------------------------------------\n",
            "20 fits failed with the following error:\n",
            "Traceback (most recent call last):\n",
            "  File \"/usr/local/lib/python3.11/dist-packages/sklearn/model_selection/_validation.py\", line 866, in _fit_and_score\n",
            "    estimator.fit(X_train, y_train, **fit_params)\n",
            "  File \"/usr/local/lib/python3.11/dist-packages/sklearn/base.py\", line 1382, in wrapper\n",
            "    estimator._validate_params()\n",
            "  File \"/usr/local/lib/python3.11/dist-packages/sklearn/base.py\", line 436, in _validate_params\n",
            "    validate_parameter_constraints(\n",
            "  File \"/usr/local/lib/python3.11/dist-packages/sklearn/utils/_param_validation.py\", line 98, in validate_parameter_constraints\n",
            "    raise InvalidParameterError(\n",
            "sklearn.utils._param_validation.InvalidParameterError: The 'min_samples_split' parameter of RandomForestClassifier must be an int in the range [2, inf) or a float in the range (0.0, 1.0]. Got 1 instead.\n",
            "\n",
            "  warnings.warn(some_fits_failed_message, FitFailedWarning)\n",
            "/usr/local/lib/python3.11/dist-packages/sklearn/model_selection/_search.py:1108: UserWarning: One or more of the test scores are non-finite: [       nan        nan 0.89529167 0.89529167        nan        nan\n",
            " 0.89529167 0.89529167]\n",
            "  warnings.warn(\n"
          ]
        },
        {
          "output_type": "stream",
          "name": "stdout",
          "text": [
            "Best parameters for regression: {'max_depth': 1, 'min_samples_split': 2, 'n_estimators': 10}\n",
            "Best parameters for classification: {'max_depth': 1, 'min_samples_split': 2, 'n_estimators': 10}\n"
          ]
        }
      ]
    },
    {
      "cell_type": "code",
      "source": [
        "from sklearn.feature_selection import SelectFromModel\n",
        "\n",
        "# Feature Selection for Regression\n",
        "reg_selector = SelectFromModel(reg_grid.best_estimator_, threshold='mean', prefit=False)\n",
        "reg_selector.fit(X_train_reg, y_train_reg)\n",
        "selected_features_reg = X_train_reg[:, reg_selector.get_support()]\n",
        "\n",
        "# Feature Selection for Classification\n",
        "clf_selector = SelectFromModel(clf_grid.best_estimator_, threshold='mean', prefit=False)\n",
        "clf_selector.fit(X_train_clf, y_train_clf)\n",
        "selected_features_clf = X_train_clf[:, clf_selector.get_support()]\n",
        "\n",
        "# Get selected feature indices\n",
        "selected_reg_indices = np.where(reg_selector.get_support())[0]\n",
        "selected_clf_indices = np.where(clf_selector.get_support())[0]\n",
        "\n",
        "# Print selected features\n",
        "print(\"Selected features for Regression Model:\", selected_reg_indices)\n",
        "print(\"Selected features for Classification Model:\", selected_clf_indices)"
      ],
      "metadata": {
        "colab": {
          "base_uri": "https://localhost:8080/"
        },
        "id": "PmSjaJKKiDFX",
        "outputId": "e61087fa-af11-4448-e476-d604d97d42ff"
      },
      "execution_count": 50,
      "outputs": [
        {
          "output_type": "stream",
          "name": "stdout",
          "text": [
            "Selected features for Regression Model: [ 7 40 54 60 63]\n",
            "Selected features for Classification Model: [ 0 19 21 26 28 34 48 56 60 71]\n"
          ]
        }
      ]
    },
    {
      "cell_type": "code",
      "source": [
        "from sklearn.metrics import mean_squared_error, accuracy_score\n",
        "\n",
        "# Selecting Important Features\n",
        "X_train_final = X_train_clf[:, selected_clf_indices]  # Using best features for classification\n",
        "X_test_final = X_test_clf[:, selected_clf_indices]    # Applying same transformation to test data\n",
        "\n",
        "# Final Model Training with Best Hyperparameters\n",
        "final_model = RandomForestClassifier(**best_clf_params, random_state=42)\n",
        "final_model.fit(X_train_final, y_train_clf)\n",
        "\n",
        "# Model Predictions\n",
        "y_pred = final_model.predict(X_test_final)\n",
        "\n",
        "# Model Performance Evaluation\n",
        "accuracy = accuracy_score(y_test_clf, y_pred)\n",
        "print(\"🔹 Final Model Accuracy:\", accuracy)"
      ],
      "metadata": {
        "colab": {
          "base_uri": "https://localhost:8080/"
        },
        "id": "tSTgKcUei0mY",
        "outputId": "56e38520-11d8-4fb1-da3a-a1e590caab8d"
      },
      "execution_count": 51,
      "outputs": [
        {
          "output_type": "stream",
          "name": "stdout",
          "text": [
            "🔹 Final Model Accuracy: 0.8940416666666666\n"
          ]
        }
      ]
    }
  ]
}